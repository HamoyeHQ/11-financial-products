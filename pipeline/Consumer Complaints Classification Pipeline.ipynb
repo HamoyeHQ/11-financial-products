{
 "cells": [
  {
   "cell_type": "markdown",
   "metadata": {},
   "source": [
    "## REQUIREMENTS\n",
    "    * Deploy Kubeflow\n",
    "    * This notebook is to be run from Kubeflow's Jupyter Notebook Server"
   ]
  },
  {
   "cell_type": "markdown",
   "metadata": {},
   "source": [
    "## Install Libraries\n"
   ]
  },
  {
   "cell_type": "code",
   "execution_count": 2,
   "metadata": {},
   "outputs": [
    {
     "name": "stdout",
     "output_type": "stream",
     "text": [
      "Requirement already up-to-date: pip in c:\\users\\tabitha\\appdata\\roaming\\python\\python36\\site-packages (20.2.3)\n",
      "^C\n"
     ]
    }
   ],
   "source": [
    "!python -m pip install --user --upgrade pip\n",
    "\n",
    "!pip3 install pandas==0.23.4 matplotlib==3.0.3 scipy==1.2.1 scikit-learn==0.22 tensorflow==2.0 tensorflow_hub --user"
   ]
  },
  {
   "cell_type": "code",
   "execution_count": null,
   "metadata": {},
   "outputs": [],
   "source": [
    "import os\n",
    "import numpy as np\n",
    "import pandas as pd\n",
    "#%tensorflow_version 1.x\n",
    "import tensorflow as tf\n",
    "import tensorflow_hub as hub\n",
    "import json\n",
    "import pickle\n",
    "import urllib\n",
    "\n",
    "from sklearn.preprocessing import LabelBinarizer\n",
    "\n",
    "print(tf.__version__)"
   ]
  },
  {
   "cell_type": "markdown",
   "metadata": {},
   "source": [
    "## Get Data\n",
    "    * The data is stored in a bucket in gcs\n",
    "    * This might require installing some dependencies\n",
    "    * bucket = \"tabbie_financial\""
   ]
  },
  {
   "cell_type": "code",
   "execution_count": null,
   "metadata": {},
   "outputs": [],
   "source": [
    "bucket = \"tabbie_financial\""
   ]
  },
  {
   "cell_type": "code",
   "execution_count": null,
   "metadata": {},
   "outputs": [],
   "source": [
    "data = pd.read_csv(\"gs://{}/data/consumer_complaints.csv\".format(bucket))"
   ]
  },
  {
   "cell_type": "code",
   "execution_count": null,
   "metadata": {},
   "outputs": [],
   "source": [
    "data = data[['product', 'consumer_complaint_narrative']]"
   ]
  },
  {
   "cell_type": "code",
   "execution_count": null,
   "metadata": {},
   "outputs": [],
   "source": [
    "data.head()"
   ]
  },
  {
   "cell_type": "code",
   "execution_count": null,
   "metadata": {},
   "outputs": [],
   "source": [
    "def preprocess(data_path):\n",
    "    import re\n",
    "    import pandas as pd\n",
    "    \n",
    "    data = pd.read_csv(data_path)\n",
    "    data = data[['product', 'consumer_complaint_narrative']]\n",
    "    \n",
    "    data = data[pd.notnull(data['consumer_complaint_narrative'])]\n",
    "    pd.set_option('max_colwidth', 1000)\n",
    "    data['consumer_complaint_narrative'] = data['consumer_complaint_narrative'].str.lower()\n",
    "    # chr = ['x', '{', '}', '/']\n",
    "    data['consumer_complaint_narrative'] = data['consumer_complaint_narrative'].str.replace('x', '')\n",
    "    data['consumer_complaint_narrative'] = data['consumer_complaint_narrative'].str.replace('{', '')\n",
    "    data['consumer_complaint_narrative'] = data['consumer_complaint_narrative'].str.replace('}', '')\n",
    "    data['consumer_complaint_narrative'] = data['consumer_complaint_narrative'].str.replace('/', '')\n",
    "    \n",
    "    data.dropna(inplace=True)\n",
    "    \n",
    "    #Save preprocessed data\n",
    "    data.to_csv(\"data/preprocessed\", index=False)\n",
    "    "
   ]
  },
  {
   "cell_type": "code",
   "execution_count": null,
   "metadata": {},
   "outputs": [],
   "source": [
    "data_path = \"gs://{}/data/consumer_complaints.csv\".format(bucket)"
   ]
  },
  {
   "cell_type": "code",
   "execution_count": null,
   "metadata": {},
   "outputs": [],
   "source": [
    "preprocess(data_path)"
   ]
  },
  {
   "cell_type": "markdown",
   "metadata": {},
   "source": [
    "### Save preprocessed data to google cloud bucket"
   ]
  },
  {
   "cell_type": "code",
   "execution_count": null,
   "metadata": {},
   "outputs": [],
   "source": [
    "!gsutil cp data/preprocessed gs://${bucket}/data/preprocessed"
   ]
  },
  {
   "cell_type": "markdown",
   "metadata": {},
   "source": [
    "## Install Kubeflow pipelines SDK"
   ]
  },
  {
   "cell_type": "code",
   "execution_count": null,
   "metadata": {},
   "outputs": [],
   "source": [
    "!pip3 install kfp --upgrade --user"
   ]
  },
  {
   "cell_type": "markdown",
   "metadata": {},
   "source": [
    "## Build Pipeline Components"
   ]
  },
  {
   "cell_type": "code",
   "execution_count": null,
   "metadata": {},
   "outputs": [],
   "source": [
    "# Import Kubeflow SDK\n",
    "import kfp\n",
    "import kfp.dsl as dsl\n",
    "import kfp.components as comp"
   ]
  },
  {
   "cell_type": "code",
   "execution_count": null,
   "metadata": {},
   "outputs": [],
   "source": [
    "# where the outputs are stored\n",
    "out_dir = \"/home/jovyan/11-financial-products/data/out/\""
   ]
  },
  {
   "cell_type": "code",
   "execution_count": null,
   "metadata": {},
   "outputs": [],
   "source": [
    "# where preprocessed data is stored\n",
    "in_dir = \"gs://{}/data/preprocessed\".format(bucket)"
   ]
  },
  {
   "cell_type": "code",
   "execution_count": null,
   "metadata": {},
   "outputs": [],
   "source": [
    "def train(out_data_path, model_dir):\n",
    "    \n",
    "    import pickle\n",
    "    import sys, subprocess;\n",
    "    subprocess.run([sys.executable, '-m', 'pip', 'install', 'pandas==0.23.4'])\n",
    "    subprocess.run([sys.executable, '-m', 'pip', 'install', 'scikit-learn==0.22'])\n",
    "    \n",
    "    import os\n",
    "    import numpy as np\n",
    "    import pandas as pd\n",
    "    #%tensorflow_version 1.x\n",
    "    import tensorflow as tf\n",
    "    import tensorflow_hub as hub\n",
    "    import json\n",
    "    import pickle\n",
    "    import urllib\n",
    "\n",
    "    from sklearn.preprocessing import LabelBinarizer\n",
    "    \n",
    "    # get data\n",
    "    data = pd.read_csv(\"gs://tabbie_financial/data/preprocessed\")\n",
    "    \n",
    "    data_comp=data[['consumer_complaint_narrative']]\n",
    "    data_prod=data[['product']]\n",
    "    \n",
    "    # Why didn't you use train_test split?\n",
    "    \n",
    "    train_size = int(len(data_comp) * .999)\n",
    "    train_descriptions = data_comp[:train_size].astype('str')\n",
    "    train_prod = data_prod[:train_size]\n",
    "    test_descriptions = data_comp[train_size:].astype('str')\n",
    "    test_prod =data_prod[train_size:]\n",
    "    \n",
    "    train_size = int(len(train_descriptions) * .8)\n",
    "    train_desc = train_descriptions[:train_size]\n",
    "    train_pr = train_prod[:train_size]\n",
    "    val_desc = train_descriptions[train_size:]\n",
    "    val_pr =train_prod[train_size:]\n",
    "    \n",
    "    # Encoder Preprocessing\n",
    "    encoder = LabelBinarizer()\n",
    "    encoder.fit_transform(train_pr)\n",
    "    train_encoded = encoder.transform(train_pr)\n",
    "    val_encoded = encoder.transform(val_pr)\n",
    "    num_classes = len(encoder.classes_)\n",
    "    \n",
    "    description_embeddings = hub.text_embedding_column(\"descriptions\", module_spec=\"https://tfhub.dev/google/universal-sentence-encoder-large/3\", trainable=False)\n",
    "    \n",
    "    multi_label_head = tf.contrib.estimator.multi_label_head(\n",
    "        num_classes,\n",
    "        loss_reduction=tf.losses.Reduction.SUM_OVER_BATCH_SIZE\n",
    "    )\n",
    "    \n",
    "    features = {\n",
    "      \"descriptions\": np.array(train_desc).astype(np.str)\n",
    "    }\n",
    "    labels = np.array(train_encoded).astype(np.int32)\n",
    "    train_input_fn = tf.estimator.inputs.numpy_input_fn(features, labels, shuffle=True, batch_size=100, num_epochs=10)\n",
    "    \n",
    "    estimator = tf.estimator.DNNEstimator(\n",
    "        head=multi_label_head,\n",
    "        hidden_units=[64,10],\n",
    "        feature_columns=[description_embeddings])\n",
    "    \n",
    "    # Train\n",
    "    estimator.train(input_fn=train_input_fn)\n",
    "    \n",
    "    train_input_fn_1 = tf.estimator.inputs.numpy_input_fn({\"descriptions\": np.array(train_desc).astype(np.str)}, train_encoded.astype(np.int32), shuffle=False)\n",
    "    estimator.evaluate(input_fn=train_input_fn_1)\n",
    "    \n",
    "    # Define our eval input_fn and run eval\n",
    "    eval_input_fn = tf.estimator.inputs.numpy_input_fn({\"descriptions\": np.array(val_desc).astype(np.str)}, val_encoded.astype(np.int32), shuffle=False)\n",
    "    estimator.evaluate(input_fn=eval_input_fn)\n",
    "    \n",
    "    predict_input_fn = tf.estimator.inputs.numpy_input_fn({\"descriptions\": np.array(test_descriptions).astype(np.str)}, shuffle=False)\n",
    "\n",
    "    results = estimator.predict(predict_input_fn)\n",
    "    \n",
    "    # Save the model to the designated\n",
    "    # estimator.save(f'{out_data}/{model_file}')\n",
    "    serving_input_fn = tf.estimator.export.build_parsing_serving_input_receiver_fn(\n",
    "          tf.feature_column.make_parse_example_spec([description_embeddings]))\n",
    "    estimator.export_saved_model(f'{out_data_path}/{model_dir}/', serving_input_fn)\n",
    "    \n",
    "    #Save the test_data as a pickle file to be used by the predict component.\n",
    "    with open(f'{out_data_path}/test_data', 'wb') as f:\n",
    "        pickle.dump((test_descriptions,  test_prod), f)\n",
    "        \n",
    "    # return estimator"
   ]
  },
  {
   "cell_type": "code",
   "execution_count": null,
   "metadata": {},
   "outputs": [],
   "source": [
    "estimator = train(out_dir, \"model\")"
   ]
  },
  {
   "cell_type": "markdown",
   "metadata": {},
   "source": [
    "## Export saved model to google cloud storage bucket.\n"
   ]
  },
  {
   "cell_type": "code",
   "execution_count": null,
   "metadata": {},
   "outputs": [],
   "source": [
    "!gsutil cp {out_dir}/model gs://${bucket}/{out_dir}/model"
   ]
  },
  {
   "cell_type": "code",
   "execution_count": null,
   "metadata": {},
   "outputs": [],
   "source": [
    "def predict(data_path, model_dir):\n",
    "    \n",
    "    import pickle\n",
    "    import tensorflow as tf\n",
    "    import numpy as np\n",
    "    \n",
    "    # Load and unpack the test_data\n",
    "    with open(f'{data_path}/test_data','rb') as f:\n",
    "        test_data = pickle.load(f)\n",
    "    # Separate the test_descriptions from test_prod.\n",
    "    test_descriptions,  test_prod = test_data\n",
    "    \n",
    "    # Load model from export directory, and make a predict function.\n",
    "    # You can also load from gcs\n",
    "    # Use contrib.predictor\n",
    "    #predict_fn = tf.contrib.predictor.from_saved_model(f'{data_path}/{model_dir}')\n",
    "    \n",
    "    #OR\n",
    "    #loading saved model\n",
    "    #estimator = tf.saved_model.load(f'{data_path}/{model_dir}')\n",
    "    predict_input_fn = tf.estimator.inputs.numpy_input_fn({\"descriptions\": np.array(test_descriptions).astype(np.str)}, shuffle=False)\n",
    "    \n",
    "    # Loading the estimator\n",
    "    predict_fn = tf.saved_model.load(f'{data_path}/{model_dir}').signatures['predict']\n",
    "    # Predict\n",
    "    results = predict_fn(examples=predict_input_fn)\n",
    "    \n",
    "    with open(f'{data_path}/result.txt', 'w') as result:\n",
    "        for product in results:\n",
    "            top = product['probabilities'].argsort()[-1:]\n",
    "            for prod in top:\n",
    "                text_prod = encoder.classes_[prod]\n",
    "                # print(text_prod + ': ' + str(round(product['probabilities'][prod] * 100, 2)) + '%')\n",
    "                result.write(text_prod + ': ' + str(round(product['probabilities'][prod] * 100, 2)) + '%')\n",
    "        print('')"
   ]
  },
  {
   "cell_type": "code",
   "execution_count": null,
   "metadata": {},
   "outputs": [],
   "source": [
    "predict(out_dir, \"model\")"
   ]
  },
  {
   "cell_type": "code",
   "execution_count": null,
   "metadata": {},
   "outputs": [],
   "source": [
    "# Create train and predict lightweight components.\n",
    "train_op = comp.func_to_container_op(train , base_image = \"tensorflow/tensorflow:latest-gpu-py3\")\n",
    "predict_op = comp.func_to_container_op(predict , base_image = \"tensorflow/tensorflow:latest-gpu-py3\")"
   ]
  },
  {
   "cell_type": "markdown",
   "metadata": {},
   "source": [
    "## Build Kubeflow Pipeline"
   ]
  },
  {
   "cell_type": "code",
   "execution_count": null,
   "metadata": {},
   "outputs": [],
   "source": [
    "#Create a client to enable communication with the Pipelines API server.\n",
    "client = kfp.Client()"
   ]
  },
  {
   "cell_type": "code",
   "execution_count": null,
   "metadata": {},
   "outputs": [],
   "source": [
    "# Define the pipeline\n",
    "@dsl.pipeline(\n",
    "   name='Consumer Complaints Pipeline',\n",
    "   description='An ML pipeline that performs Consumer Complaints Classification model training and prediction.'\n",
    ")\n",
    "\n",
    "# Define parameters to be fed into pipeline\n",
    "def consumer_complaints_pipeline(\n",
    "    data_path: str,\n",
    "    model_dir: str\n",
    "):\n",
    "    \n",
    "    # Define volume to share data between components.\n",
    "    vop = dsl.VolumeOp(\n",
    "    name=\"create_volume\",\n",
    "    resource_name=\"data-volume\", \n",
    "    size=\"1Gi\", \n",
    "    modes=dsl.VOLUME_MODE_RWO)\n",
    "    \n",
    "    # Create training component.\n",
    "    training_container = train_op(data_path, model_dir) \\\n",
    "                                    .add_pvolumes({data_path: vop.volume})\n",
    "\n",
    "    # Create prediction component.\n",
    "    predict_container = predict_op(data_path, model_dir) \\\n",
    "                                    .add_pvolumes({data_path: churn_training_container.pvolume})\n",
    "    \n",
    "    # Print the result of the prediction\n",
    "    result_container = dsl.ContainerOp(\n",
    "        name=\"print_prediction\",\n",
    "        image='library/bash:4.4.23',\n",
    "        pvolumes={data_path: predict_container.pvolume},\n",
    "        arguments=['cat', f'{data_path}/result.txt']\n",
    "    )\n"
   ]
  },
  {
   "cell_type": "markdown",
   "metadata": {},
   "source": [
    "## Run the Pipeline"
   ]
  },
  {
   "cell_type": "code",
   "execution_count": null,
   "metadata": {},
   "outputs": [],
   "source": [
    "DATA_PATH = '/mnt'\n",
    "MODEL_PATH='customer_complaints'"
   ]
  },
  {
   "cell_type": "code",
   "execution_count": null,
   "metadata": {},
   "outputs": [],
   "source": [
    "pipeline_func = consumer_complaints_pipeline"
   ]
  },
  {
   "cell_type": "code",
   "execution_count": null,
   "metadata": {},
   "outputs": [],
   "source": [
    "experiment_name = 'consumer_complaints_kubeflow'\n",
    "run_name = pipeline_func.__name__ + ' run'\n",
    "\n",
    "arguments = {\"data_path\":DATA_PATH,\n",
    "             \"model_file\":MODEL_PATH}\n",
    "\n",
    "# Compile pipeline to generate compressed YAML definition of the pipeline.\n",
    "kfp.compiler.Compiler().compile(pipeline_func,  \n",
    "  '{}.zip'.format(experiment_name))\n",
    "\n",
    "# Submit pipeline directly from pipeline function\n",
    "run_result = client.create_run_from_pipeline_func(pipeline_func, \n",
    "                                                  experiment_name=experiment_name, \n",
    "                                                  run_name=run_name, \n",
    "                                                  arguments=arguments)"
   ]
  }
 ],
 "metadata": {
  "kernelspec": {
   "display_name": "Python 3",
   "language": "python",
   "name": "python3"
  },
  "language_info": {
   "codemirror_mode": {
    "name": "ipython",
    "version": 3
   },
   "file_extension": ".py",
   "mimetype": "text/x-python",
   "name": "python",
   "nbconvert_exporter": "python",
   "pygments_lexer": "ipython3",
   "version": "3.6.5"
  }
 },
 "nbformat": 4,
 "nbformat_minor": 4
}
