{
 "cells": [
  {
   "cell_type": "code",
   "execution_count": null,
   "metadata": {
    "id": "4kGfFCrnuh-1"
   },
   "outputs": [],
   "source": [
    "import pandas as pd\n",
    "import numpy as np\n",
    "import matplotlib.pyplot as plt\n",
    "import seaborn as sns\n",
    "\n",
    "\n",
    "#preprocessing\n",
    "from sklearn.model_selection import train_test_split\n",
    "from sklearn.preprocessing import LabelEncoder\n",
    "\n",
    "#NLP\n",
    "from textblob import TextBlob\n",
    "from sklearn.feature_extraction.text import CountVectorizer, TfidfVectorizer\n",
    "import nltk\n",
    "import re\n",
    "\n",
    "#modeling\n",
    "from sklearn.linear_model import LogisticRegressionCV, LogisticRegression\n",
    "\n",
    "#metrics\n",
    "from sklearn.metrics import classification_report, accuracy_score, precision_score, recall_score"
   ]
  },
  {
   "cell_type": "markdown",
   "metadata": {
    "id": "NIJOXa4ivr9l"
   },
   "source": [
    "# create a non-null DF"
   ]
  },
  {
   "cell_type": "code",
   "execution_count": null,
   "metadata": {
    "id": "aN-jXgbsu6hu"
   },
   "outputs": [],
   "source": [
    "path = 'drive/My Drive/Datasets/'\n",
    "file_ = 'consumer_complaints.csv'"
   ]
  },
  {
   "cell_type": "code",
   "execution_count": null,
   "metadata": {
    "id": "ID0XENVsu9pV"
   },
   "outputs": [],
   "source": [
    "df = pd.read_csv(path+file_, low_memory=False)"
   ]
  },
  {
   "cell_type": "code",
   "execution_count": null,
   "metadata": {
    "colab": {
     "base_uri": "https://localhost:8080/",
     "height": 197
    },
    "id": "6oVYn6DzvBju",
    "outputId": "ad60a829-17a9-415d-ccbb-f41babedb2cf"
   },
   "outputs": [
    {
     "data": {
      "text/html": [
       "<div>\n",
       "<style scoped>\n",
       "    .dataframe tbody tr th:only-of-type {\n",
       "        vertical-align: middle;\n",
       "    }\n",
       "\n",
       "    .dataframe tbody tr th {\n",
       "        vertical-align: top;\n",
       "    }\n",
       "\n",
       "    .dataframe thead th {\n",
       "        text-align: right;\n",
       "    }\n",
       "</style>\n",
       "<table border=\"1\" class=\"dataframe\">\n",
       "  <thead>\n",
       "    <tr style=\"text-align: right;\">\n",
       "      <th></th>\n",
       "      <th>consumer_complaint_narrative</th>\n",
       "    </tr>\n",
       "  </thead>\n",
       "  <tbody>\n",
       "    <tr>\n",
       "      <th>0</th>\n",
       "      <td>NaN</td>\n",
       "    </tr>\n",
       "    <tr>\n",
       "      <th>1</th>\n",
       "      <td>NaN</td>\n",
       "    </tr>\n",
       "    <tr>\n",
       "      <th>2</th>\n",
       "      <td>NaN</td>\n",
       "    </tr>\n",
       "    <tr>\n",
       "      <th>3</th>\n",
       "      <td>NaN</td>\n",
       "    </tr>\n",
       "    <tr>\n",
       "      <th>4</th>\n",
       "      <td>NaN</td>\n",
       "    </tr>\n",
       "  </tbody>\n",
       "</table>\n",
       "</div>"
      ],
      "text/plain": [
       "  consumer_complaint_narrative\n",
       "0                          NaN\n",
       "1                          NaN\n",
       "2                          NaN\n",
       "3                          NaN\n",
       "4                          NaN"
      ]
     },
     "execution_count": 4,
     "metadata": {
      "tags": []
     },
     "output_type": "execute_result"
    }
   ],
   "source": [
    "df[['consumer_complaint_narrative']].head()"
   ]
  },
  {
   "cell_type": "code",
   "execution_count": null,
   "metadata": {
    "id": "mKgwWV62vEpp"
   },
   "outputs": [],
   "source": [
    "nlp_df = df[['product', 'consumer_complaint_narrative']].copy()"
   ]
  },
  {
   "cell_type": "code",
   "execution_count": null,
   "metadata": {
    "colab": {
     "base_uri": "https://localhost:8080/",
     "height": 282
    },
    "id": "ZBhugOabvJSj",
    "outputId": "1fac9146-aa37-4fa5-88fe-a3784d76405b"
   },
   "outputs": [
    {
     "data": {
      "image/png": "[encoded data removed]",
      "text/plain": [
       "<Figure size 432x288 with 1 Axes>"
      ]
     },
     "metadata": {
      "needs_background": "light",
      "tags": []
     },
     "output_type": "display_data"
    }
   ],
   "source": [
    "#missing heat map\n",
    "sns.heatmap(nlp_df.isnull(), cbar=False)\n",
    "plt.title('Heatmap of missingness')\n",
    "plt.show()"
   ]
  },
  {
   "cell_type": "code",
   "execution_count": null,
   "metadata": {
    "colab": {
     "base_uri": "https://localhost:8080/",
     "height": 67
    },
    "id": "qsG9RsO6vK9n",
    "outputId": "424504b3-c07e-4f40-fbfb-f477f3c4bddd"
   },
   "outputs": [
    {
     "data": {
      "text/plain": [
       "product                              0\n",
       "consumer_complaint_narrative    489151\n",
       "dtype: int64"
      ]
     },
     "execution_count": 7,
     "metadata": {
      "tags": []
     },
     "output_type": "execute_result"
    }
   ],
   "source": [
    "np.sum(nlp_df.isnull())"
   ]
  },
  {
   "cell_type": "code",
   "execution_count": null,
   "metadata": {
    "id": "FfK0DfAWvOno"
   },
   "outputs": [],
   "source": [
    "#remove na from consumer_complaint_narrative \n",
    "nlp_df = nlp_df[pd.notnull(nlp_df['consumer_complaint_narrative'])]"
   ]
  },
  {
   "cell_type": "code",
   "execution_count": null,
   "metadata": {
    "colab": {
     "base_uri": "https://localhost:8080/",
     "height": 67
    },
    "id": "QRwoSpJ5vRSt",
    "outputId": "77dde337-ced9-4ce6-e31e-5842637b560d"
   },
   "outputs": [
    {
     "data": {
      "text/plain": [
       "product                         0\n",
       "consumer_complaint_narrative    0\n",
       "dtype: int64"
      ]
     },
     "execution_count": 9,
     "metadata": {
      "tags": []
     },
     "output_type": "execute_result"
    }
   ],
   "source": [
    "np.sum(nlp_df.isnull())"
   ]
  },
  {
   "cell_type": "code",
   "execution_count": null,
   "metadata": {
    "colab": {
     "base_uri": "https://localhost:8080/",
     "height": 33
    },
    "id": "UTAD10WkvUqq",
    "outputId": "368b20f6-c406-41fb-c959-a2ce79ada1fc"
   },
   "outputs": [
    {
     "data": {
      "text/plain": [
       "(66806, 2)"
      ]
     },
     "execution_count": 10,
     "metadata": {
      "tags": []
     },
     "output_type": "execute_result"
    }
   ],
   "source": [
    "nlp_df.shape"
   ]
  },
  {
   "cell_type": "code",
   "execution_count": null,
   "metadata": {
    "colab": {
     "base_uri": "https://localhost:8080/",
     "height": 197
    },
    "id": "304u41VBvl8c",
    "outputId": "3adb380d-88ed-4ca5-d91f-138f91e375cf"
   },
   "outputs": [
    {
     "data": {
      "text/html": [
       "<div>\n",
       "<style scoped>\n",
       "    .dataframe tbody tr th:only-of-type {\n",
       "        vertical-align: middle;\n",
       "    }\n",
       "\n",
       "    .dataframe tbody tr th {\n",
       "        vertical-align: top;\n",
       "    }\n",
       "\n",
       "    .dataframe thead th {\n",
       "        text-align: right;\n",
       "    }\n",
       "</style>\n",
       "<table border=\"1\" class=\"dataframe\">\n",
       "  <thead>\n",
       "    <tr style=\"text-align: right;\">\n",
       "      <th></th>\n",
       "      <th>product</th>\n",
       "      <th>consumer_complaint_narrative</th>\n",
       "    </tr>\n",
       "  </thead>\n",
       "  <tbody>\n",
       "    <tr>\n",
       "      <th>190126</th>\n",
       "      <td>Debt collection</td>\n",
       "      <td>XXXX has claimed I owe them {$27.00} for XXXX ...</td>\n",
       "    </tr>\n",
       "    <tr>\n",
       "      <th>190135</th>\n",
       "      <td>Consumer Loan</td>\n",
       "      <td>Due to inconsistencies in the amount owed that...</td>\n",
       "    </tr>\n",
       "    <tr>\n",
       "      <th>190155</th>\n",
       "      <td>Mortgage</td>\n",
       "      <td>In XX/XX/XXXX my wages that I earned at my job...</td>\n",
       "    </tr>\n",
       "    <tr>\n",
       "      <th>190207</th>\n",
       "      <td>Mortgage</td>\n",
       "      <td>I have an open and current mortgage with Chase...</td>\n",
       "    </tr>\n",
       "    <tr>\n",
       "      <th>190208</th>\n",
       "      <td>Mortgage</td>\n",
       "      <td>XXXX was submitted XX/XX/XXXX. At the time I s...</td>\n",
       "    </tr>\n",
       "  </tbody>\n",
       "</table>\n",
       "</div>"
      ],
      "text/plain": [
       "                product                       consumer_complaint_narrative\n",
       "190126  Debt collection  XXXX has claimed I owe them {$27.00} for XXXX ...\n",
       "190135    Consumer Loan  Due to inconsistencies in the amount owed that...\n",
       "190155         Mortgage  In XX/XX/XXXX my wages that I earned at my job...\n",
       "190207         Mortgage  I have an open and current mortgage with Chase...\n",
       "190208         Mortgage  XXXX was submitted XX/XX/XXXX. At the time I s..."
      ]
     },
     "execution_count": 11,
     "metadata": {
      "tags": []
     },
     "output_type": "execute_result"
    }
   ],
   "source": [
    "nlp_df.head()"
   ]
  },
  {
   "cell_type": "markdown",
   "metadata": {
    "id": "ffGotWcDvzED"
   },
   "source": [
    "# Helper functions"
   ]
  },
  {
   "cell_type": "code",
   "execution_count": null,
   "metadata": {
    "id": "T0KkXgBDvoJA"
   },
   "outputs": [],
   "source": [
    "def clean_text(text_df, col):\n",
    "  clean_df = text_df.copy()\n",
    "  clean_df[col] = clean_df[col].str.lower()\n",
    "  clean_df[col] = clean_df[col].str.replace('x', '')\n",
    "  clean_df[col] = clean_df[col].str.replace('{', '')\n",
    "  clean_df[col] = clean_df[col].str.replace('}', '')\n",
    "  clean_df[col] = clean_df[col].str.replace('/', '')\n",
    "  return clean_df"
   ]
  },
  {
   "cell_type": "code",
   "execution_count": null,
   "metadata": {
    "id": "yUuw2Xqpv3WM"
   },
   "outputs": [],
   "source": [
    "def split_data(full_df, input_col, target_col):\n",
    "  clean_df = full_df.copy()\n",
    "  input_df = clean_df[[input_col]].copy()\n",
    "  target_df = clean_df[[target_col]].copy()\n",
    "\n",
    "  #split to train and test\n",
    "  train_size = int(len(input_df) * .999)\n",
    "  train_data = input_df[:train_size].astype('str')\n",
    "  train_targets = target_df[:train_size]\n",
    "  test_data = input_df[train_size:].astype('str')\n",
    "  test_targets = target_df[train_size:]\n",
    "\n",
    "  #split train into train and validation\n",
    "  train_size = int(len(train_data) * .8)\n",
    "  Xtrain = train_data[: train_size]\n",
    "  Ytrain = train_targets[: train_size]\n",
    "  Xtest = train_data[train_size : ]\n",
    "  Ytest = train_targets[train_size : ]\n",
    "\n",
    "  return (Xtrain, Ytrain), (Xtest, Ytest), (test_data, test_targets)\n",
    "  "
   ]
  },
  {
   "cell_type": "code",
   "execution_count": null,
   "metadata": {
    "id": "U-ikcnVFwOqP"
   },
   "outputs": [],
   "source": [
    "def create_tf_idf(train_text, test_text):\n",
    "  tfidf_vec = TfidfVectorizer(max_features=5000)\n",
    "\n",
    "  tfidf_vec.fit(train_text['consumer_complaint_narrative'].values)\n",
    "\n",
    "  xtrain_tfidf = tfidf_vec.transform(train_text['consumer_complaint_narrative'].values)\n",
    "  xtest_tfidf = tfidf_vec.transform(test_text['consumer_complaint_narrative'].values)\n",
    "\n",
    "  return xtrain_tfidf, xtest_tfidf, tfidf_vec"
   ]
  },
  {
   "cell_type": "code",
   "execution_count": null,
   "metadata": {
    "id": "5lTkEuHtwUjg"
   },
   "outputs": [],
   "source": [
    "def create_labels(ytrain, ytest):\n",
    "  encoder = LabelEncoder()\n",
    "  encoder.fit(ytrain)\n",
    "  ytrain = encoder.transform(ytrain)\n",
    "  ytest = encoder.transform(y_test)\n",
    "  return ytrain, ytest, encoder"
   ]
  },
  {
   "cell_type": "code",
   "execution_count": null,
   "metadata": {
    "id": "n3tbTnJxiNCP"
   },
   "outputs": [],
   "source": [
    "#the function creates an empty dataframe...\n",
    "\n",
    "def new_report():\n",
    "    return pd.DataFrame(columns=['CLASSIFIER', 'ACCURACY', 'PRECISION', \n",
    "                                 'RECALL', 'F1_SCORE'])"
   ]
  },
  {
   "cell_type": "code",
   "execution_count": null,
   "metadata": {
    "id": "i3nygX6wiR8Q"
   },
   "outputs": [],
   "source": [
    "def report(classifier_name, y_true, y_hat, average):\n",
    "  \"\"\"\n",
    "  Inputs:\n",
    "      y, array of int 0/1, ground truth labels for good/fraud\n",
    "      y_hat, array of int 0/1,, predicted probabilities of fraud\n",
    "      \n",
    "  Output: \n",
    "      report dataframe of 1 row \n",
    "  \"\"\"\n",
    "  accuracy = accuracy_score(y_true,y_hat)\n",
    "  precision = precision_score(y_true,y_hat, average=average)\n",
    "  recall = recall_score(y_true,y_hat, average=average)\n",
    "  fscore = 2 * (precision * recall) / (precision + recall)\n",
    "\n",
    "  df = new_report()\n",
    "  df.loc[0] = ([classifier_name,\n",
    "                f'{accuracy:.3f}',\n",
    "                f'{precision:.3f}',\n",
    "                f'{recall:.3f}',\n",
    "                f'{fscore:.3f}',\n",
    "                  ])\n",
    "  return df"
   ]
  },
  {
   "cell_type": "markdown",
   "metadata": {
    "id": "igJYtkVHxE1G"
   },
   "source": [
    "# create train and test set"
   ]
  },
  {
   "cell_type": "code",
   "execution_count": null,
   "metadata": {
    "id": "Of4pV4TqxD9d"
   },
   "outputs": [],
   "source": [
    "df_clean = clean_text(nlp_df, 'consumer_complaint_narrative')\n",
    "train, test, val = split_data(df_clean, input_col='consumer_complaint_narrative', target_col='product')"
   ]
  },
  {
   "cell_type": "code",
   "execution_count": null,
   "metadata": {
    "colab": {
     "base_uri": "https://localhost:8080/",
     "height": 67
    },
    "id": "DW5Qt5SsxQR2",
    "outputId": "e46efc12-9c4f-4641-9956-5d558edfd5c3"
   },
   "outputs": [
    {
     "name": "stdout",
     "output_type": "stream",
     "text": [
      "x_train shape: (53391, 1)\n",
      "x_test shape:  (13348, 1)\n",
      "x_val shape:   (67, 1)\n"
     ]
    }
   ],
   "source": [
    "x_train = train[0]\n",
    "y_train = train[1]\n",
    "\n",
    "x_test = test[0]\n",
    "y_test = test[1]\n",
    "\n",
    "val_x = val[0]\n",
    "val_y = val[1]\n",
    "\n",
    "print(f'x_train shape: {x_train.shape}')\n",
    "print(f'x_test shape:  {x_test.shape}')\n",
    "print(f'x_val shape:   {val_x.shape}')"
   ]
  },
  {
   "cell_type": "code",
   "execution_count": null,
   "metadata": {
    "colab": {
     "base_uri": "https://localhost:8080/",
     "height": 592
    },
    "id": "AvxijENmxTdJ",
    "outputId": "0ed29b00-8345-4175-f43f-c65fa2bfe88c"
   },
   "outputs": [
    {
     "name": "stderr",
     "output_type": "stream",
     "text": [
      "/usr/local/lib/python3.6/dist-packages/seaborn/_decorators.py:43: FutureWarning: Pass the following variable as a keyword arg: x. From version 0.12, the only valid positional argument will be `data`, and passing other arguments without an explicit keyword will result in an error or misinterpretation.\n",
      "  FutureWarning\n"
     ]
    },
    {
     "data": {
      "image/png": "[encoded data removed]",
      "text/plain": [
       "<Figure size 1080x504 with 1 Axes>"
      ]
     },
     "metadata": {
      "tags": []
     },
     "output_type": "display_data"
    }
   ],
   "source": [
    "sns.set(rc={'figure.figsize':(15, 7)})\n",
    "chart = sns.countplot(y_train['product'])\n",
    "chart.set_xticklabels(chart.get_xticklabels(), rotation=45);"
   ]
  },
  {
   "cell_type": "code",
   "execution_count": null,
   "metadata": {
    "colab": {
     "base_uri": "https://localhost:8080/",
     "height": 70
    },
    "id": "v3-PdGYXxW4I",
    "outputId": "ccd5ac09-8f48-4e8c-82ac-6a475b75404a"
   },
   "outputs": [
    {
     "name": "stderr",
     "output_type": "stream",
     "text": [
      "/usr/local/lib/python3.6/dist-packages/sklearn/preprocessing/_label.py:268: DataConversionWarning: A column-vector y was passed when a 1d array was expected. Please change the shape of y to (n_samples, ), for example using ravel().\n",
      "  y = column_or_1d(y, warn=True)\n"
     ]
    }
   ],
   "source": [
    "y_train, y_test, target_encoder = create_labels(y_train['product'].values, y_test['product'].values)"
   ]
  },
  {
   "cell_type": "code",
   "execution_count": null,
   "metadata": {
    "colab": {
     "base_uri": "https://localhost:8080/",
     "height": 83
    },
    "id": "lgUmZMV_xkQF",
    "outputId": "45378523-d08e-4231-9b70-1379f9678ab3"
   },
   "outputs": [
    {
     "data": {
      "text/plain": [
       "array(['Bank account or service', 'Consumer Loan', 'Credit card',\n",
       "       'Credit reporting', 'Debt collection', 'Money transfers',\n",
       "       'Mortgage', 'Other financial service', 'Payday loan',\n",
       "       'Prepaid card', 'Student loan'], dtype=object)"
      ]
     },
     "execution_count": 22,
     "metadata": {
      "tags": []
     },
     "output_type": "execute_result"
    }
   ],
   "source": [
    "target_encoder.classes_"
   ]
  },
  {
   "cell_type": "code",
   "execution_count": null,
   "metadata": {
    "id": "JlQJPyBXx8Oh"
   },
   "outputs": [],
   "source": [
    "xtrain_tfidf, xtest_tfidf, tfidf_vec = create_tf_idf(x_train, x_test)"
   ]
  },
  {
   "cell_type": "markdown",
   "metadata": {
    "id": "el7zlPmmiclz"
   },
   "source": [
    "# Building Models"
   ]
  },
  {
   "cell_type": "markdown",
   "metadata": {
    "id": "DoY_a2QBmvQU"
   },
   "source": [
    "## Model 1"
   ]
  },
  {
   "cell_type": "code",
   "execution_count": null,
   "metadata": {
    "colab": {
     "base_uri": "https://localhost:8080/",
     "height": 47
    },
    "id": "zOoy-5ORifYH",
    "outputId": "c8fe29a4-a82c-48d2-b7ce-1e9299ffc762"
   },
   "outputs": [
    {
     "data": {
      "text/html": [
       "<div>\n",
       "<style scoped>\n",
       "    .dataframe tbody tr th:only-of-type {\n",
       "        vertical-align: middle;\n",
       "    }\n",
       "\n",
       "    .dataframe tbody tr th {\n",
       "        vertical-align: top;\n",
       "    }\n",
       "\n",
       "    .dataframe thead th {\n",
       "        text-align: right;\n",
       "    }\n",
       "</style>\n",
       "<table border=\"1\" class=\"dataframe\">\n",
       "  <thead>\n",
       "    <tr style=\"text-align: right;\">\n",
       "      <th></th>\n",
       "      <th>CLASSIFIER</th>\n",
       "      <th>ACCURACY</th>\n",
       "      <th>PRECISION</th>\n",
       "      <th>RECALL</th>\n",
       "      <th>F1_SCORE</th>\n",
       "    </tr>\n",
       "  </thead>\n",
       "  <tbody>\n",
       "  </tbody>\n",
       "</table>\n",
       "</div>"
      ],
      "text/plain": [
       "Empty DataFrame\n",
       "Columns: [CLASSIFIER, ACCURACY, PRECISION, RECALL, F1_SCORE]\n",
       "Index: []"
      ]
     },
     "execution_count": 24,
     "metadata": {
      "tags": []
     },
     "output_type": "execute_result"
    }
   ],
   "source": [
    "metric_report = new_report()\n",
    "metric_report"
   ]
  },
  {
   "cell_type": "code",
   "execution_count": null,
   "metadata": {
    "id": "usk6OmvVi0qV"
   },
   "outputs": [],
   "source": [
    "# Create one-vs-rest logistic regression object\n",
    "logistic_regression_ovr = LogisticRegression(random_state=0, multi_class=\"ovr\", max_iter=1000)"
   ]
  },
  {
   "cell_type": "code",
   "execution_count": null,
   "metadata": {
    "colab": {
     "base_uri": "https://localhost:8080/",
     "height": 83
    },
    "id": "CQjiyJc7i0zu",
    "outputId": "961021a1-9292-46d9-84a2-63d078bf518b"
   },
   "outputs": [
    {
     "data": {
      "text/plain": [
       "LogisticRegression(C=1.0, class_weight=None, dual=False, fit_intercept=True,\n",
       "                   intercept_scaling=1, l1_ratio=None, max_iter=1000,\n",
       "                   multi_class='ovr', n_jobs=None, penalty='l2', random_state=0,\n",
       "                   solver='lbfgs', tol=0.0001, verbose=0, warm_start=False)"
      ]
     },
     "execution_count": 26,
     "metadata": {
      "tags": []
     },
     "output_type": "execute_result"
    }
   ],
   "source": [
    "logistic_regression_ovr.fit(xtrain_tfidf, y_train)"
   ]
  },
  {
   "cell_type": "code",
   "execution_count": null,
   "metadata": {
    "id": "DdhE5FvSi0x2"
   },
   "outputs": [],
   "source": [
    "ovr_preds = logistic_regression_ovr.predict(xtest_tfidf)"
   ]
  },
  {
   "cell_type": "code",
   "execution_count": null,
   "metadata": {
    "colab": {
     "base_uri": "https://localhost:8080/",
     "height": 131
    },
    "id": "SkAtgL1zi0ds",
    "outputId": "0fc6f73d-9bac-44d7-ccc6-9ee159f8bf00"
   },
   "outputs": [
    {
     "name": "stderr",
     "output_type": "stream",
     "text": [
      "/usr/local/lib/python3.6/dist-packages/sklearn/metrics/_classification.py:1272: UndefinedMetricWarning: Precision is ill-defined and being set to 0.0 in labels with no predicted samples. Use `zero_division` parameter to control this behavior.\n",
      "  _warn_prf(average, modifier, msg_start, len(result))\n"
     ]
    },
    {
     "data": {
      "text/html": [
       "<div>\n",
       "<style scoped>\n",
       "    .dataframe tbody tr th:only-of-type {\n",
       "        vertical-align: middle;\n",
       "    }\n",
       "\n",
       "    .dataframe tbody tr th {\n",
       "        vertical-align: top;\n",
       "    }\n",
       "\n",
       "    .dataframe thead th {\n",
       "        text-align: right;\n",
       "    }\n",
       "</style>\n",
       "<table border=\"1\" class=\"dataframe\">\n",
       "  <thead>\n",
       "    <tr style=\"text-align: right;\">\n",
       "      <th></th>\n",
       "      <th>CLASSIFIER</th>\n",
       "      <th>ACCURACY</th>\n",
       "      <th>PRECISION</th>\n",
       "      <th>RECALL</th>\n",
       "      <th>F1_SCORE</th>\n",
       "    </tr>\n",
       "  </thead>\n",
       "  <tbody>\n",
       "    <tr>\n",
       "      <th>0</th>\n",
       "      <td>Logistic_Regresion_OVR</td>\n",
       "      <td>0.817</td>\n",
       "      <td>0.818</td>\n",
       "      <td>0.817</td>\n",
       "      <td>0.817</td>\n",
       "    </tr>\n",
       "  </tbody>\n",
       "</table>\n",
       "</div>"
      ],
      "text/plain": [
       "               CLASSIFIER ACCURACY PRECISION RECALL F1_SCORE\n",
       "0  Logistic_Regresion_OVR    0.817     0.818  0.817    0.817"
      ]
     },
     "execution_count": 28,
     "metadata": {
      "tags": []
     },
     "output_type": "execute_result"
    }
   ],
   "source": [
    "metric_report = pd.concat([metric_report, report(classifier_name='Logistic_Regresion_OVR', y_true=y_test, y_hat=ovr_preds, average='weighted')])\n",
    "metric_report"
   ]
  },
  {
   "cell_type": "markdown",
   "metadata": {
    "id": "txg_BB1Bm3YE"
   },
   "source": [
    "## model 2"
   ]
  },
  {
   "cell_type": "code",
   "execution_count": null,
   "metadata": {
    "id": "b9hTXtU2m0Lr"
   },
   "outputs": [],
   "source": [
    "# Create multinomial logistic regression object\n",
    "logistic_regression_mnl = LogisticRegression(random_state=0, multi_class=\"multinomial\", max_iter=1000)"
   ]
  },
  {
   "cell_type": "code",
   "execution_count": null,
   "metadata": {
    "colab": {
     "base_uri": "https://localhost:8080/",
     "height": 100
    },
    "id": "NEbRx5rmm2Ia",
    "outputId": "6258832a-7fa3-450f-da5e-ad89318e6ba9"
   },
   "outputs": [
    {
     "data": {
      "text/plain": [
       "LogisticRegression(C=1.0, class_weight=None, dual=False, fit_intercept=True,\n",
       "                   intercept_scaling=1, l1_ratio=None, max_iter=1000,\n",
       "                   multi_class='multinomial', n_jobs=None, penalty='l2',\n",
       "                   random_state=0, solver='lbfgs', tol=0.0001, verbose=0,\n",
       "                   warm_start=False)"
      ]
     },
     "execution_count": 30,
     "metadata": {
      "tags": []
     },
     "output_type": "execute_result"
    }
   ],
   "source": [
    "logistic_regression_mnl.fit(xtrain_tfidf, y_train)"
   ]
  },
  {
   "cell_type": "code",
   "execution_count": null,
   "metadata": {
    "id": "47696dMzm2Ey"
   },
   "outputs": [],
   "source": [
    "mnl_preds = logistic_regression_mnl.predict(xtest_tfidf)"
   ]
  },
  {
   "cell_type": "code",
   "execution_count": null,
   "metadata": {
    "colab": {
     "base_uri": "https://localhost:8080/",
     "height": 161
    },
    "id": "BwurZDJWm2CX",
    "outputId": "d7b84905-651e-4b93-c936-df6f6b1b28fc"
   },
   "outputs": [
    {
     "name": "stderr",
     "output_type": "stream",
     "text": [
      "/usr/local/lib/python3.6/dist-packages/sklearn/metrics/_classification.py:1272: UndefinedMetricWarning: Precision is ill-defined and being set to 0.0 in labels with no predicted samples. Use `zero_division` parameter to control this behavior.\n",
      "  _warn_prf(average, modifier, msg_start, len(result))\n"
     ]
    },
    {
     "data": {
      "text/html": [
       "<div>\n",
       "<style scoped>\n",
       "    .dataframe tbody tr th:only-of-type {\n",
       "        vertical-align: middle;\n",
       "    }\n",
       "\n",
       "    .dataframe tbody tr th {\n",
       "        vertical-align: top;\n",
       "    }\n",
       "\n",
       "    .dataframe thead th {\n",
       "        text-align: right;\n",
       "    }\n",
       "</style>\n",
       "<table border=\"1\" class=\"dataframe\">\n",
       "  <thead>\n",
       "    <tr style=\"text-align: right;\">\n",
       "      <th></th>\n",
       "      <th>CLASSIFIER</th>\n",
       "      <th>ACCURACY</th>\n",
       "      <th>PRECISION</th>\n",
       "      <th>RECALL</th>\n",
       "      <th>F1_SCORE</th>\n",
       "    </tr>\n",
       "  </thead>\n",
       "  <tbody>\n",
       "    <tr>\n",
       "      <th>0</th>\n",
       "      <td>Logistic_Regresion_OVR</td>\n",
       "      <td>0.817</td>\n",
       "      <td>0.818</td>\n",
       "      <td>0.817</td>\n",
       "      <td>0.817</td>\n",
       "    </tr>\n",
       "    <tr>\n",
       "      <th>0</th>\n",
       "      <td>Logistic_Regresion_mnl</td>\n",
       "      <td>0.824</td>\n",
       "      <td>0.823</td>\n",
       "      <td>0.824</td>\n",
       "      <td>0.823</td>\n",
       "    </tr>\n",
       "  </tbody>\n",
       "</table>\n",
       "</div>"
      ],
      "text/plain": [
       "               CLASSIFIER ACCURACY PRECISION RECALL F1_SCORE\n",
       "0  Logistic_Regresion_OVR    0.817     0.818  0.817    0.817\n",
       "0  Logistic_Regresion_mnl    0.824     0.823  0.824    0.823"
      ]
     },
     "execution_count": 32,
     "metadata": {
      "tags": []
     },
     "output_type": "execute_result"
    }
   ],
   "source": [
    "metric_report = pd.concat([metric_report, report(classifier_name='Logistic_Regresion_mnl', y_true=y_test, y_hat=mnl_preds, average='weighted')])\n",
    "metric_report"
   ]
  },
  {
   "cell_type": "markdown",
   "metadata": {
    "id": "LBpHsHvZn8sE"
   },
   "source": [
    "## Model 3"
   ]
  },
  {
   "cell_type": "code",
   "execution_count": null,
   "metadata": {
    "id": "tVcAwsvEm1_n"
   },
   "outputs": [],
   "source": [
    "logistic_regression_bal_cls = LogisticRegression(random_state=0, multi_class=\"multinomial\", max_iter=1000, class_weight='balanced')"
   ]
  },
  {
   "cell_type": "code",
   "execution_count": null,
   "metadata": {
    "colab": {
     "base_uri": "https://localhost:8080/",
     "height": 100
    },
    "id": "A4pl-kg5oIJC",
    "outputId": "09f4a721-feb6-41f1-bce4-032189bd5207"
   },
   "outputs": [
    {
     "data": {
      "text/plain": [
       "LogisticRegression(C=1.0, class_weight='balanced', dual=False,\n",
       "                   fit_intercept=True, intercept_scaling=1, l1_ratio=None,\n",
       "                   max_iter=1000, multi_class='multinomial', n_jobs=None,\n",
       "                   penalty='l2', random_state=0, solver='lbfgs', tol=0.0001,\n",
       "                   verbose=0, warm_start=False)"
      ]
     },
     "execution_count": 34,
     "metadata": {
      "tags": []
     },
     "output_type": "execute_result"
    }
   ],
   "source": [
    "logistic_regression_bal_cls.fit(xtrain_tfidf, y_train)"
   ]
  },
  {
   "cell_type": "code",
   "execution_count": null,
   "metadata": {
    "id": "XRmOScvroPOQ"
   },
   "outputs": [],
   "source": [
    "bal_cls_pred = logistic_regression_bal_cls.predict(xtest_tfidf)"
   ]
  },
  {
   "cell_type": "code",
   "execution_count": null,
   "metadata": {
    "colab": {
     "base_uri": "https://localhost:8080/",
     "height": 137
    },
    "id": "nPkmuJ3LoPbd",
    "outputId": "c5b22964-4c19-4e47-e013-7caafb6e5a46"
   },
   "outputs": [
    {
     "data": {
      "text/html": [
       "<div>\n",
       "<style scoped>\n",
       "    .dataframe tbody tr th:only-of-type {\n",
       "        vertical-align: middle;\n",
       "    }\n",
       "\n",
       "    .dataframe tbody tr th {\n",
       "        vertical-align: top;\n",
       "    }\n",
       "\n",
       "    .dataframe thead th {\n",
       "        text-align: right;\n",
       "    }\n",
       "</style>\n",
       "<table border=\"1\" class=\"dataframe\">\n",
       "  <thead>\n",
       "    <tr style=\"text-align: right;\">\n",
       "      <th></th>\n",
       "      <th>CLASSIFIER</th>\n",
       "      <th>ACCURACY</th>\n",
       "      <th>PRECISION</th>\n",
       "      <th>RECALL</th>\n",
       "      <th>F1_SCORE</th>\n",
       "    </tr>\n",
       "  </thead>\n",
       "  <tbody>\n",
       "    <tr>\n",
       "      <th>0</th>\n",
       "      <td>Logistic_Regresion_OVR</td>\n",
       "      <td>0.817</td>\n",
       "      <td>0.818</td>\n",
       "      <td>0.817</td>\n",
       "      <td>0.817</td>\n",
       "    </tr>\n",
       "    <tr>\n",
       "      <th>0</th>\n",
       "      <td>Logistic_Regresion_mnl</td>\n",
       "      <td>0.824</td>\n",
       "      <td>0.823</td>\n",
       "      <td>0.824</td>\n",
       "      <td>0.823</td>\n",
       "    </tr>\n",
       "    <tr>\n",
       "      <th>0</th>\n",
       "      <td>Logistic_Regresion(balanced class weight)</td>\n",
       "      <td>0.821</td>\n",
       "      <td>0.831</td>\n",
       "      <td>0.821</td>\n",
       "      <td>0.826</td>\n",
       "    </tr>\n",
       "  </tbody>\n",
       "</table>\n",
       "</div>"
      ],
      "text/plain": [
       "                                  CLASSIFIER ACCURACY PRECISION RECALL F1_SCORE\n",
       "0                     Logistic_Regresion_OVR    0.817     0.818  0.817    0.817\n",
       "0                     Logistic_Regresion_mnl    0.824     0.823  0.824    0.823\n",
       "0  Logistic_Regresion(balanced class weight)    0.821     0.831  0.821    0.826"
      ]
     },
     "execution_count": 36,
     "metadata": {
      "tags": []
     },
     "output_type": "execute_result"
    }
   ],
   "source": [
    "metric_report = pd.concat([metric_report, report(classifier_name='Logistic_Regresion(balanced class weight)', y_true=y_test, y_hat=bal_cls_pred, average='weighted')])\n",
    "metric_report"
   ]
  },
  {
   "cell_type": "markdown",
   "metadata": {
    "id": "1fYgxXaFqAsn"
   },
   "source": [
    "## Model 4"
   ]
  },
  {
   "cell_type": "code",
   "execution_count": null,
   "metadata": {
    "id": "8c4gbxLGoO88"
   },
   "outputs": [],
   "source": [
    "# monitor imbalance and use newton-cg\n",
    "logistic_regression_cg = LogisticRegression(random_state=0, multi_class=\"multinomial\", max_iter=1000, class_weight='balanced', solver=\"newton-cg\")"
   ]
  },
  {
   "cell_type": "code",
   "execution_count": null,
   "metadata": {
    "colab": {
     "base_uri": "https://localhost:8080/",
     "height": 100
    },
    "id": "-bH0rcCJqFIB",
    "outputId": "f265492f-3d4b-4395-fa3f-a62d37a4fd15"
   },
   "outputs": [
    {
     "data": {
      "text/plain": [
       "LogisticRegression(C=1.0, class_weight='balanced', dual=False,\n",
       "                   fit_intercept=True, intercept_scaling=1, l1_ratio=None,\n",
       "                   max_iter=1000, multi_class='multinomial', n_jobs=None,\n",
       "                   penalty='l2', random_state=0, solver='newton-cg', tol=0.0001,\n",
       "                   verbose=0, warm_start=False)"
      ]
     },
     "execution_count": 38,
     "metadata": {
      "tags": []
     },
     "output_type": "execute_result"
    }
   ],
   "source": [
    "logistic_regression_cg.fit(xtrain_tfidf, y_train)"
   ]
  },
  {
   "cell_type": "code",
   "execution_count": null,
   "metadata": {
    "id": "U2gRd5IFqnPG"
   },
   "outputs": [],
   "source": [
    "newton_preds = logistic_regression_cg.predict(xtest_tfidf)"
   ]
  },
  {
   "cell_type": "code",
   "execution_count": null,
   "metadata": {
    "colab": {
     "base_uri": "https://localhost:8080/",
     "height": 167
    },
    "id": "tLl-nJtaqvYL",
    "outputId": "0949f184-aa76-48a2-c501-29bfbfa60261"
   },
   "outputs": [
    {
     "data": {
      "text/html": [
       "<div>\n",
       "<style scoped>\n",
       "    .dataframe tbody tr th:only-of-type {\n",
       "        vertical-align: middle;\n",
       "    }\n",
       "\n",
       "    .dataframe tbody tr th {\n",
       "        vertical-align: top;\n",
       "    }\n",
       "\n",
       "    .dataframe thead th {\n",
       "        text-align: right;\n",
       "    }\n",
       "</style>\n",
       "<table border=\"1\" class=\"dataframe\">\n",
       "  <thead>\n",
       "    <tr style=\"text-align: right;\">\n",
       "      <th></th>\n",
       "      <th>CLASSIFIER</th>\n",
       "      <th>ACCURACY</th>\n",
       "      <th>PRECISION</th>\n",
       "      <th>RECALL</th>\n",
       "      <th>F1_SCORE</th>\n",
       "    </tr>\n",
       "  </thead>\n",
       "  <tbody>\n",
       "    <tr>\n",
       "      <th>0</th>\n",
       "      <td>Logistic_Regresion_OVR</td>\n",
       "      <td>0.817</td>\n",
       "      <td>0.818</td>\n",
       "      <td>0.817</td>\n",
       "      <td>0.817</td>\n",
       "    </tr>\n",
       "    <tr>\n",
       "      <th>0</th>\n",
       "      <td>Logistic_Regresion_mnl</td>\n",
       "      <td>0.824</td>\n",
       "      <td>0.823</td>\n",
       "      <td>0.824</td>\n",
       "      <td>0.823</td>\n",
       "    </tr>\n",
       "    <tr>\n",
       "      <th>0</th>\n",
       "      <td>Logistic_Regresion(balanced class weight)</td>\n",
       "      <td>0.821</td>\n",
       "      <td>0.831</td>\n",
       "      <td>0.821</td>\n",
       "      <td>0.826</td>\n",
       "    </tr>\n",
       "    <tr>\n",
       "      <th>0</th>\n",
       "      <td>Logistic_Regresion(multi_newton)</td>\n",
       "      <td>0.821</td>\n",
       "      <td>0.831</td>\n",
       "      <td>0.821</td>\n",
       "      <td>0.826</td>\n",
       "    </tr>\n",
       "  </tbody>\n",
       "</table>\n",
       "</div>"
      ],
      "text/plain": [
       "                                  CLASSIFIER ACCURACY PRECISION RECALL F1_SCORE\n",
       "0                     Logistic_Regresion_OVR    0.817     0.818  0.817    0.817\n",
       "0                     Logistic_Regresion_mnl    0.824     0.823  0.824    0.823\n",
       "0  Logistic_Regresion(balanced class weight)    0.821     0.831  0.821    0.826\n",
       "0           Logistic_Regresion(multi_newton)    0.821     0.831  0.821    0.826"
      ]
     },
     "execution_count": 40,
     "metadata": {
      "tags": []
     },
     "output_type": "execute_result"
    }
   ],
   "source": [
    "metric_report = pd.concat([metric_report, report(classifier_name='Logistic_Regresion(multi_newton)', y_true=y_test, y_hat=newton_preds, average='weighted')])\n",
    "metric_report"
   ]
  },
  {
   "cell_type": "markdown",
   "metadata": {
    "id": "v1U6d33cq4gn"
   },
   "source": [
    "## Model 5"
   ]
  },
  {
   "cell_type": "code",
   "execution_count": null,
   "metadata": {},
   "outputs": [],
   "source": []
  },
  {
   "cell_type": "markdown",
   "metadata": {
    "id": "9H8wqifDthIW"
   },
   "source": [
    "## Final Metric Report"
   ]
  },
  {
   "cell_type": "code",
   "execution_count": null,
   "metadata": {
    "id": "CqQ0XkcciUiF"
   },
   "outputs": [],
   "source": []
  }
 ],
 "metadata": {
  "accelerator": "GPU",
  "colab": {
   "name": "Final ML baselines.ipynb",
   "provenance": []
  },
  "kernelspec": {
   "display_name": "Python 3",
   "language": "python",
   "name": "python3"
  },
  "language_info": {
   "codemirror_mode": {
    "name": "ipython",
    "version": 3
   },
   "file_extension": ".py",
   "mimetype": "text/x-python",
   "name": "python",
   "nbconvert_exporter": "python",
   "pygments_lexer": "ipython3",
   "version": "3.7.4"
  }
 },
 "nbformat": 4,
 "nbformat_minor": 1
}
